{
  "cells": [
    {
      "cell_type": "markdown",
      "metadata": {
        "id": "4foVEKhrlqcH"
      },
      "source": [
        "#📌 Extracão"
      ]
    },
    {
      "cell_type": "code",
      "execution_count": null,
      "metadata": {
        "id": "1--uPM88l7JH"
      },
      "outputs": [],
      "source": [
        "import pandas as pd\n",
        "\n",
        "#Convertendo os Arquivos para análise em um Data Frame\n",
        "dado = pd.read_json('G:/Meu Drive/Oracle_alura/ETL G8/Challenge_2/Dados/TelecomX_Data.json')\n",
        "print(dado.head(),'\\n\\n')\n",
        "\n",
        "\n",
        "#Normalizando o arquivo\n",
        "normal = pd.json_normalize(dado.to_dict(orient='records'))\n",
        "print(normal)"
      ]
    },
    {
      "cell_type": "markdown",
      "metadata": {
        "id": "1lSZP8zmmGZu"
      },
      "source": [
        "#🔧 Transformação"
      ]
    },
    {
      "cell_type": "code",
      "execution_count": null,
      "metadata": {
        "id": "bsm-WTLjmHvt"
      },
      "outputs": [],
      "source": [
        "#Verificando valores nulos e duplicados\n",
        "print('NULOS ->',normal.isnull().sum())\n",
        "print('DUPLICADOS',normal.duplicated().sum())\n",
        "\n",
        "#Valores unicos em cada coluna\n",
        "for coluna in normal.columns:\n",
        "    unico=normal[coluna].unique()\n",
        "    print(f'\\n\\nValores unicos da coluna {coluna}->{unico} \\n\\n')\n",
        "\n",
        "\n",
        "\n",
        "#Transformando certas colunas para Float\n",
        "normal['account.Charges.Total']=pd.to_numeric(normal['account.Charges.Total'], errors='coerce')\n",
        "normal['customer.tenure']=pd.to_numeric(normal['customer.tenure'], errors='coerce')\n",
        "\n",
        "#Criando uma coluna para gastos diarios\n",
        "normal=normal.drop('Total.Day', errors='ignore')\n",
        "normal['Total.Day']=((normal['account.Charges.Total'] / normal['customer.tenure'])/30).round(2)\n",
        "normal.insert(19,'Total.Day', normal.pop('Total.Day'))\n",
        "\n",
        "#Removendo os valores vazios da coluna Churn\n",
        "normal.query('Churn != \"\"', inplace=True)\n",
        "print('\\n\\nValores unicos da coluna Churn', normal['Churn'].unique(),'\\n\\n')\n"
      ]
    },
    {
      "cell_type": "markdown",
      "metadata": {
        "id": "6XnTC2NTmMRL"
      },
      "source": [
        "#📊 Carga e análise"
      ]
    },
    {
      "cell_type": "code",
      "execution_count": null,
      "metadata": {
        "id": "1jgUnLqTmPdd"
      },
      "outputs": [],
      "source": [
        "\n",
        "#Estatisticas descritivas\n",
        "descrito = normal.describe()\n",
        "\n",
        "mean = descrito.loc['mean']\n",
        "median = descrito.loc['50%']\n",
        "std = descrito.loc['std']\n",
        "print(f'Mediana\\n{median}\\n\\n media\\n{mean}\\n\\n std\\n{std}\\n\\n')\n",
        "\n",
        "\n",
        "#Fazendo os gráficos pra perceber os motivos das saida\n",
        "import plotly.express as px\n",
        "import matplotlib.pyplot as plt\n",
        "print(normal.info())\n",
        "\n",
        "\n",
        "#Gráficos em função do dado Churn\n",
        "#Tenure\n",
        "fig, ax = plt.subplots(figsize=(8,5))\n",
        "\n",
        "churn_yes = normal[normal['Churn'] == 'Yes']['customer.tenure'].astype('Int64')\n",
        "churn_no  = normal[normal['Churn'] == 'No']['customer.tenure'].astype('Int64')\n",
        "\n",
        "ax.hist([churn_yes, churn_no], bins=20, label=['Churn: Sim', 'Churn: Não'], stacked=True)\n",
        "ax.set_title('Histograma de Tenure por Churn')\n",
        "ax.set_xlabel('Meses de permanência')\n",
        "ax.set_ylabel('Número de clientes')\n",
        "ax.legend()\n",
        "plt.show()\n",
        "\n",
        "#Outras variaveis não numericas\n",
        "def churn_grafico(coluna, color):\n",
        "    fig, ax = plt.subplots(figsize=(8,5))\n",
        "    churn_yes = normal[normal['Churn'] == 'Yes'][coluna]\n",
        "    churn_no  = normal[normal['Churn'] == 'No'][coluna]\n",
        "    \n",
        "    ax.hist([churn_yes, churn_no], bins=50, label=['Churn: Sim', 'Churn: Não'], stacked=True, color=color)\n",
        "    ax.set_title(f'Histograma de {coluna} por Churn')\n",
        "    ax.set_xlabel(coluna)\n",
        "    ax.set_ylabel('Número de clientes')\n",
        "    ax.legend()\n",
        "    plt.show()\n",
        "\n",
        "#Contagem de evasão variaveis numéricas\n",
        "churn_grafico('account.Charges.Total', ['red', 'gold'])\n",
        "churn_grafico('Total.Day', ['#4DF6FA', '#FA8F4D'])\n",
        "\n",
        "\n",
        "#Contagem de evasão variaveis categóricas\n",
        "churn_grafico('customer.gender', ['#722BFA','#FAEF2A'])\n",
        "churn_grafico('account.Contract', ['#FA1E58', '#1EFA3C'])\n",
        "churn_grafico('account.PaymentMethod', ['#D33FFA', '#B4FA3E'])\n",
        "churn_grafico('internet.InternetService', ['#FA573A', '#3CFAA9'])\n",
        "\n"
      ]
    },
    {
      "cell_type": "markdown",
      "metadata": {
        "id": "v-WzfSvTmaw9"
      },
      "source": [
        "#📄Relatorio Final"
      ]
    },
    {
      "cell_type": "markdown",
      "metadata": {},
      "source": [
        "\n",
        "### 📘 Introdução\n",
        "Neste desafio, me foi proposta a tarefa de realizar uma análise da evasão de clientes da empresa **Telecom X**, uma empresa de serviços de Televisão e internet, o projeto se chama **\"Churn de Clientes\"**. A empresa enfrenta um alto cancelamento de seus serviços por parte dos cliêntes e precisa entender o porquê desta ocorrencia.\n",
        "A análise busca identificar padrões em dados fornecidos sobre os clientes e correlacioná-los com a variável `Churn`, que indica se o cliente deixou ou não de utilizar os serviços da empresa.\n",
        "\n",
        "---\n",
        "\n",
        "### 🧹 Limpeza e Tratamento de Dados\n",
        "\n",
        "A preparação dos dados começou com a leitura do arquivo `TelecomX_Data.json` e sua conversão para um DataFrame usando a biblioteca **pandas**. Devido à presença de dados aninhados, foi utilizada a função `pd.json_normalize`, sendo necessário converter o DataFrame para um dicionário com `orient='records'`.\n",
        "\n",
        "Em seguida, realizou-se uma análise inicial para verificar a existência de valores nulos, duplicatas e inconsistências por meio da inspeção dos valores únicos por coluna. Nessa etapa, identificou-se que a coluna `Churn` possuía registros vazios, que foram removidos com o método `.query()`.\n",
        "\n",
        "As colunas `account.Charges.Total` e `customer.tenure`, inicialmente no formato texto, foram convertidas para valores numéricos utilizando `pd.to_numeric`, tratando automaticamente valores inválidos como nulos (`errors='coerce'`).\n",
        "\n",
        "Também foi criada uma nova métrica chamada `Total.Day`, que representa o gasto médio diário do cliente. Essa métrica foi calculada a partir do valor total de cobranças dividido pelo tempo de permanência (em meses), ajustado para um período de 30 dias. Qualquer versão anterior dessa coluna foi removida para evitar duplicidade.\n",
        "\n",
        "---\n",
        "\n",
        "### 📊 Análise Exploratória de Dados\n",
        "\n",
        "Inicialmente, foram extraídas estatísticas descritivas (média, mediana e desvio padrão) para fornecer uma visão geral dos dados, servindo de base para as análises comparativas e visuais.\n",
        "\n",
        "Para gerar os gráficos, foi utilizada a biblioteca **matplotlib**. Com o objetivo de manter um padrão visual e facilitar a geração dos gráficos, foi criada uma função que segmenta os dados com base na variável `Churn`.\n",
        "\n",
        "---\n",
        "\n",
        "#### 📈 Análise dos Gráficos\n",
        "\n",
        "O tipo de gráfico construido para a análise foi um histogrâma, um gráfico de barras que apresenta a distribuição da frequência dos dados em determinado intervalo, representando a quantidade de dados em cada intervalo por meio da altura da barra.\n",
        "\n",
        "---\n",
        "\n",
        "#### Gráfico: Meses de Permanência dos Clientes\n",
        "\n",
        "![alt text](<../Gráficos/Histograma de Tenure por Churn.png>)\n",
        "\n",
        "Este gráfico revela que a maioria dos clientes que cancelaram o serviço permaneceu por poucos meses, o que pode indicar uma experiência inicial negativa ou um serviço aquém das expectativas para novos assinantes. Já os clientes antigos, com contratos mais longos, parecem permanecer mais tempo, possivelmente devido à familiaridade com o serviço ou comodidade.\n",
        "\n",
        "---\n",
        "\n",
        "#### Contagem de evasão variaveis categóricas\n",
        "\n",
        "![alt text](<../Gráficos/Histograma de customer.gender por Churn.png>)\n",
        "![alt text](<../Gráficos/Histograma de account.Contract por Churn.png>)\n",
        "![alt text](<../Gráficos/Histograma de account.PaymentMethod por Churn.png>)\n",
        "![alt text](<../Gráficos/Histograma de internet.InternetService por Churn.png>)\n",
        "\n",
        "Embora esses gráficos não revelem grandes discrepâncias entre quem cancelou ou não o serviço, eles ajudam a identificar padrões de comportamento e concentração de clientes. Isso é útil para entender quais perfis devem ser priorizados em estratégias de retenção.\n",
        "\n",
        "Por exemplo:\n",
        "- Em relação ao **gênero**, a evasão é praticamente equilibrada.\n",
        "- A maioria dos clientes utiliza **contratos mensais**, **internet via fibra óptica** e realiza pagamentos por **cheque eletrônico** — áreas que merecem atenção.\n",
        "\n",
        "---\n",
        "\n",
        "#### Contagem de evasão variaveis numéricas\n",
        "\n",
        "Primeiramente vamos análisar a o quanto as pessoas gastaram pelo serviço ao longo de seu tempo de contrato.\n",
        "\n",
        "![alt text](<../Gráficos/Histograma de account.Charges.Total por Churn.png>)\n",
        "\n",
        "Este gráfico confirma que os clientes que cancelaram o serviço geralmente gastaram menos, refletindo a tendência já observada de cancelamentos precoces (menos meses de contrato).\n",
        "\n",
        "---\n",
        "\n",
        "![alt text](<../Gráficos/Histograma de Total.Day por Churn.png>)\n",
        "\n",
        "Este gráfico traz um insight interessante: os clientes que permaneceram na empresa tendem a pagar entre **R$0,50 e R$1,00** por dia, enquanto muitos dos que cancelaram estão na faixa de **R$2,70 a R$3,70** por dia. Isso pode indicar que o custo percebido do serviço em relação ao valor entregue não está sendo bem aceito por novos clientes.\n",
        "\n",
        "---\n",
        "\n",
        "### ✅ Conclusões e Insights\n",
        "\n",
        "- A maioria dos clientes que cancelam o serviço está no perfil “médio” de uso e gasto, ou seja, utilizam o pacote padrão.\n",
        "- Isso sugere que o serviço básico não está atendendo às expectativas dos novos assinantes, levando à frustração e ao cancelamento precoce.\n",
        "- Clientes antigos, por outro lado, tendem a permanecer, o que pode indicar fidelidade, resistência à mudança ou satisfação com serviços personalizados.\n",
        "\n",
        "---\n",
        "\n",
        "### 💡 Recomendações\n",
        "\n",
        "- **Melhorar o serviço básico** para atender melhor aos novos assinantes.\n",
        "- **Investir em campanhas de onboarding** e comunicação clara dos benefícios desde o início do contrato.\n",
        "- **Aprimorar o atendimento inicial ao cliente**, garantindo uma boa primeira impressão e suporte rápido em caso de problemas.\n",
        "- **Analisar o custo-benefício percebido pelos clientes**, especialmente na faixa de gasto diário mais elevada."
      ]
    },
    {
      "cell_type": "markdown",
      "metadata": {},
      "source": []
    }
  ],
  "metadata": {
    "colab": {
      "provenance": []
    },
    "kernelspec": {
      "display_name": "Python 3",
      "name": "python3"
    },
    "language_info": {
      "name": "python"
    }
  },
  "nbformat": 4,
  "nbformat_minor": 0
}
